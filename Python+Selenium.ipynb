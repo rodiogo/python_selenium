{
 "cells": [
  {
   "cell_type": "code",
   "execution_count": 1,
   "id": "d04c710c",
   "metadata": {},
   "outputs": [],
   "source": [
    "from selenium import webdriver\n",
    "import pandas as pd\n"
   ]
  },
  {
   "cell_type": "code",
   "execution_count": 2,
   "id": "08b4cce4",
   "metadata": {},
   "outputs": [],
   "source": [
    "driver = webdriver.Chrome('C:\\Program Files (x86)\\chromedriver.exe')\n",
    "\n",
    "driver.get('https://finance.yahoo.com/quote/BTC-EUR/history/?guccounter=2')\n",
    "driver.maximize_window()"
   ]
  },
  {
   "cell_type": "code",
   "execution_count": 4,
   "id": "af7c5d64",
   "metadata": {},
   "outputs": [
    {
     "data": {
      "text/html": [
       "<div>\n",
       "<style scoped>\n",
       "    .dataframe tbody tr th:only-of-type {\n",
       "        vertical-align: middle;\n",
       "    }\n",
       "\n",
       "    .dataframe tbody tr th {\n",
       "        vertical-align: top;\n",
       "    }\n",
       "\n",
       "    .dataframe thead th {\n",
       "        text-align: right;\n",
       "    }\n",
       "</style>\n",
       "<table border=\"1\" class=\"dataframe\">\n",
       "  <thead>\n",
       "    <tr style=\"text-align: right;\">\n",
       "      <th></th>\n",
       "      <th>Date</th>\n",
       "      <th>BTC Closing Value</th>\n",
       "    </tr>\n",
       "  </thead>\n",
       "  <tbody>\n",
       "    <tr>\n",
       "      <th>0</th>\n",
       "      <td>Sep 16, 2021</td>\n",
       "      <td>40,449.61</td>\n",
       "    </tr>\n",
       "    <tr>\n",
       "      <th>1</th>\n",
       "      <td>Sep 15, 2021</td>\n",
       "      <td>40,762.15</td>\n",
       "    </tr>\n",
       "    <tr>\n",
       "      <th>2</th>\n",
       "      <td>Sep 14, 2021</td>\n",
       "      <td>39,900.29</td>\n",
       "    </tr>\n",
       "    <tr>\n",
       "      <th>3</th>\n",
       "      <td>Sep 13, 2021</td>\n",
       "      <td>38,073.34</td>\n",
       "    </tr>\n",
       "    <tr>\n",
       "      <th>4</th>\n",
       "      <td>Sep 12, 2021</td>\n",
       "      <td>38,997.03</td>\n",
       "    </tr>\n",
       "    <tr>\n",
       "      <th>5</th>\n",
       "      <td>Sep 11, 2021</td>\n",
       "      <td>38,258.65</td>\n",
       "    </tr>\n",
       "    <tr>\n",
       "      <th>6</th>\n",
       "      <td>Sep 10, 2021</td>\n",
       "      <td>38,002.76</td>\n",
       "    </tr>\n",
       "    <tr>\n",
       "      <th>7</th>\n",
       "      <td>Sep 09, 2021</td>\n",
       "      <td>39,233.23</td>\n",
       "    </tr>\n",
       "    <tr>\n",
       "      <th>8</th>\n",
       "      <td>Sep 08, 2021</td>\n",
       "      <td>38,997.88</td>\n",
       "    </tr>\n",
       "    <tr>\n",
       "      <th>9</th>\n",
       "      <td>Sep 07, 2021</td>\n",
       "      <td>39,521.42</td>\n",
       "    </tr>\n",
       "  </tbody>\n",
       "</table>\n",
       "</div>"
      ],
      "text/plain": [
       "           Date BTC Closing Value\n",
       "0  Sep 16, 2021         40,449.61\n",
       "1  Sep 15, 2021         40,762.15\n",
       "2  Sep 14, 2021         39,900.29\n",
       "3  Sep 13, 2021         38,073.34\n",
       "4  Sep 12, 2021         38,997.03\n",
       "5  Sep 11, 2021         38,258.65\n",
       "6  Sep 10, 2021         38,002.76\n",
       "7  Sep 09, 2021         39,233.23\n",
       "8  Sep 08, 2021         38,997.88\n",
       "9  Sep 07, 2021         39,521.42"
      ]
     },
     "execution_count": 4,
     "metadata": {},
     "output_type": "execute_result"
    }
   ],
   "source": [
    "dates = driver.find_elements_by_xpath('//*[@id=\"Col1-1-HistoricalDataTable-Proxy\"]/section/div[2]/table/tbody/tr/td[1]/span')\n",
    "closes = driver.find_elements_by_xpath('//*[@id=\"Col1-1-HistoricalDataTable-Proxy\"]/section/div[2]/table/tbody/tr/td[5]/span')\n",
    "\n",
    "eur_btc_rates = []\n",
    "\n",
    "for i in range(len(dates))[:10]:\n",
    "    new_Data={'Date': dates[i].text,\n",
    "              'BTC Closing Value': closes[i].text}\n",
    "    eur_btc_rates.append(new_Data)\n",
    "\n",
    "df_data=pd.DataFrame(eur_btc_rates)\n",
    "df_data"
   ]
  },
  {
   "cell_type": "code",
   "execution_count": 6,
   "id": "3ed0208c",
   "metadata": {},
   "outputs": [],
   "source": [
    "df_data.to_excel('eur_btc_rates.csv.xlsx', index=False)"
   ]
  },
  {
   "cell_type": "code",
   "execution_count": null,
   "id": "c8c49241",
   "metadata": {},
   "outputs": [],
   "source": []
  }
 ],
 "metadata": {
  "kernelspec": {
   "display_name": "Python 3",
   "language": "python",
   "name": "python3"
  },
  "language_info": {
   "codemirror_mode": {
    "name": "ipython",
    "version": 3
   },
   "file_extension": ".py",
   "mimetype": "text/x-python",
   "name": "python",
   "nbconvert_exporter": "python",
   "pygments_lexer": "ipython3",
   "version": "3.8.8"
  }
 },
 "nbformat": 4,
 "nbformat_minor": 5
}
